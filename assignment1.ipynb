{
 "cells": [
  {
   "cell_type": "markdown",
   "metadata": {},
   "source": [
    "Assignment Date- 04/03/2024\n",
    "Name-Devesh shukla"
   ]
  },
  {
   "cell_type": "markdown",
   "metadata": {},
   "source": [
    "1)\taccept a number and display its table."
   ]
  },
  {
   "cell_type": "code",
   "execution_count": 6,
   "metadata": {},
   "outputs": [
    {
     "name": "stdout",
     "output_type": "stream",
     "text": [
      "Entered number is  : 12\n",
      "12 x 1 = 12\n",
      "12 x 2 = 24\n",
      "12 x 3 = 36\n",
      "12 x 4 = 48\n",
      "12 x 5 = 60\n",
      "12 x 6 = 72\n",
      "12 x 7 = 84\n",
      "12 x 8 = 96\n",
      "12 x 9 = 108\n",
      "12 x 10 = 120\n"
     ]
    }
   ],
   "source": [
    "a=int(input(\"Input a number to get its Table\"))\n",
    "print(f\"Entered number is  : {a}\")\n",
    "for i in range(1, 11):\n",
    "    product = a * i\n",
    "    print(f\"{a} x {i} = {product}\")"
   ]
  },
  {
   "cell_type": "markdown",
   "metadata": {},
   "source": [
    "2)\tusing switch ….case   display whether accepted character is vowel or not."
   ]
  },
  {
   "cell_type": "code",
   "execution_count": 3,
   "metadata": {},
   "outputs": [
    {
     "name": "stdout",
     "output_type": "stream",
     "text": [
      "The character 's' is not a vowel.\n"
     ]
    }
   ],
   "source": [
    "def check_vowel(char):\n",
    "    def is_vowel():\n",
    "        return True\n",
    "\n",
    "    def is_not_vowel():\n",
    "        return False\n",
    "\n",
    "    switch = {\n",
    "        'a': is_vowel,\n",
    "        'e': is_vowel,\n",
    "        'i': is_vowel,\n",
    "        'o': is_vowel,\n",
    "        'u': is_vowel,\n",
    "        'A': is_vowel,\n",
    "        'E': is_vowel,\n",
    "        'I': is_vowel,\n",
    "        'O': is_vowel,\n",
    "        'U': is_vowel,\n",
    "    }\n",
    "\n",
    "    case = switch.get(char, is_not_vowel)\n",
    "    return case()\n",
    "\n",
    "char = input(\"Enter a character: \")\n",
    "if check_vowel(char):\n",
    "    print(f\"The character '{char}' is a vowel.\")\n",
    "else:\n",
    "    print(f\"The character '{char}' is not a vowel.\")\n",
    "\n",
    "#python do not have built in switch case. we can achieve similar functionality using a dictionary to map cases to functions"
   ]
  },
  {
   "cell_type": "markdown",
   "metadata": {},
   "source": [
    "--2nd method"
   ]
  },
  {
   "cell_type": "code",
   "execution_count": 1,
   "metadata": {},
   "outputs": [
    {
     "name": "stdout",
     "output_type": "stream",
     "text": [
      "the character 'd is not vowel\n"
     ]
    }
   ],
   "source": [
    "def check_vowels(char):\n",
    "    vowels='aeiouAEIOU'\n",
    "    if char in vowels:\n",
    "        return True\n",
    "    else:\n",
    "        return False\n",
    "    \n",
    "character = input(\"Enter a character : \")\n",
    "\n",
    "if check_vowels(character):\n",
    "    print(f\"the character '{character} is vowel\")\n",
    "else:\n",
    "    print(f\"the character '{character} is not vowel\")\n",
    "    \n",
    "\n"
   ]
  },
  {
   "cell_type": "markdown",
   "metadata": {},
   "source": [
    "3rd method"
   ]
  },
  {
   "cell_type": "code",
   "execution_count": 4,
   "metadata": {},
   "outputs": [
    {
     "name": "stdout",
     "output_type": "stream",
     "text": [
      "The character 'd is not vowel' \n"
     ]
    }
   ],
   "source": [
    "def is_vowel(char):\n",
    "    switcher ={\n",
    "        'a': is_vowel,\n",
    "        'e': is_vowel,\n",
    "        'i': is_vowel,\n",
    "        'o': is_vowel,\n",
    "        'u': is_vowel,\n",
    "        'A': is_vowel,\n",
    "        'E': is_vowel,\n",
    "        'I': is_vowel,\n",
    "        'O': is_vowel,\n",
    "        'U': is_vowel,\n",
    "    }\n",
    "    return switcher.get(char,False)\n",
    "\n",
    "character = input(\"Enter a character : \")\n",
    "if is_vowel(character):\n",
    "   print (f\"The character '{character} is vowel' \") \n",
    "else:\n",
    "    print (f\"The character '{character} is not vowel' \") "
   ]
  },
  {
   "cell_type": "markdown",
   "metadata": {},
   "source": [
    "Display numbers  1 to 10 using  While loop"
   ]
  },
  {
   "cell_type": "code",
   "execution_count": 10,
   "metadata": {},
   "outputs": [
    {
     "name": "stdout",
     "output_type": "stream",
     "text": [
      "1\n",
      "2\n",
      "3\n",
      "4\n",
      "5\n",
      "6\n",
      "7\n",
      "8\n",
      "9\n",
      "10\n"
     ]
    }
   ],
   "source": [
    "i = 1\n",
    "while i <= 10:\n",
    "  print(i)\n",
    "  i += 1"
   ]
  },
  {
   "cell_type": "markdown",
   "metadata": {},
   "source": [
    "4)\tDisplay numbers from 3 to 30 except number 24  using while loop.\n"
   ]
  },
  {
   "cell_type": "code",
   "execution_count": 11,
   "metadata": {},
   "outputs": [
    {
     "name": "stdout",
     "output_type": "stream",
     "text": [
      "3\n",
      "4\n",
      "5\n",
      "6\n",
      "7\n",
      "8\n",
      "9\n",
      "10\n",
      "11\n",
      "12\n",
      "13\n",
      "14\n",
      "15\n",
      "16\n",
      "17\n",
      "18\n",
      "19\n",
      "20\n",
      "21\n",
      "22\n",
      "23\n",
      "25\n",
      "26\n",
      "27\n",
      "28\n",
      "29\n",
      "30\n"
     ]
    }
   ],
   "source": [
    "i=3\n",
    "while i<=30:\n",
    "    if i!=24 :\n",
    "        print(i)\n",
    "    i+=1    "
   ]
  },
  {
   "cell_type": "markdown",
   "metadata": {},
   "source": [
    "5)\taccept marks from the user. Using if…….elif….  Else,  display whether result is  fail, pass, second class , first class, Distinction etc.  \n"
   ]
  },
  {
   "cell_type": "code",
   "execution_count": 12,
   "metadata": {},
   "outputs": [
    {
     "name": "stdout",
     "output_type": "stream",
     "text": [
      "you are pass with first class with distinction\n"
     ]
    }
   ],
   "source": [
    "marks=int(input(\"Enter your marks\"))\n",
    "if marks>=75:\n",
    "    print(f\"you are pass with first class with distinction\")\n",
    "elif 60<=marks<75:\n",
    "    print(f\"you are passed with first class\")\n",
    "elif 49<=marks<60:\n",
    "    print(f\"you are passed with second class\")\n",
    "else:\n",
    "    print(\"your result is fail\")"
   ]
  },
  {
   "cell_type": "markdown",
   "metadata": {},
   "source": [
    "6) print the total of first 10 numbers.\n"
   ]
  },
  {
   "cell_type": "code",
   "execution_count": 15,
   "metadata": {},
   "outputs": [
    {
     "name": "stdout",
     "output_type": "stream",
     "text": [
      "Sum of the first 10 numbers is: 55\n"
     ]
    }
   ],
   "source": [
    "sum = 0\n",
    "for i in range(1, 11):\n",
    "    sum += i\n",
    "\n",
    "print(f\"Sum of the first 10 numbers is: {sum}\")"
   ]
  },
  {
   "cell_type": "markdown",
   "metadata": {},
   "source": [
    "7) accept numbers till user enters 0 and display the total of all the numbers entered.\n"
   ]
  },
  {
   "cell_type": "code",
   "execution_count": 17,
   "metadata": {},
   "outputs": [
    {
     "name": "stdout",
     "output_type": "stream",
     "text": [
      "The total of all the numbers entered is: 23\n"
     ]
    }
   ],
   "source": [
    "total = 0\n",
    "\n",
    "while True:\n",
    "    num = int(input(\"Enter a number (enter 0 to stop): \"))\n",
    "    if num == 0:\n",
    "        break\n",
    "    total += num\n",
    "\n",
    "print(\"The total of all the numbers entered is:\", total)"
   ]
  },
  {
   "cell_type": "markdown",
   "metadata": {},
   "source": [
    "8) accept a character and display whether it is upper case or lower case or not an alphabet.\n"
   ]
  },
  {
   "cell_type": "code",
   "execution_count": 18,
   "metadata": {},
   "outputs": [
    {
     "name": "stdout",
     "output_type": "stream",
     "text": [
      "The character is a lowercase letter.\n"
     ]
    }
   ],
   "source": [
    "char = input(\"Enter a character: \")\n",
    "\n",
    "if char.isalpha():\n",
    "    if char.isupper():\n",
    "        print(\"The character is an uppercase letter.\")\n",
    "    elif char.islower():\n",
    "        print(\"The character is a lowercase letter.\")\n",
    "else:\n",
    "    print(\"The character is not an alphabet.\")"
   ]
  },
  {
   "cell_type": "markdown",
   "metadata": {},
   "source": [
    "9) display fibonicii series of 10 numbers\n"
   ]
  },
  {
   "cell_type": "code",
   "execution_count": 19,
   "metadata": {},
   "outputs": [
    {
     "name": "stdout",
     "output_type": "stream",
     "text": [
      "[0, 1, 1, 2, 3, 5, 8, 13, 21, 34]\n"
     ]
    }
   ],
   "source": [
    "def fibonacci(n):\n",
    "  if n <= 0:\n",
    "    return []\n",
    "  elif n == 1:\n",
    "    return [0]\n",
    "  elif n == 2:\n",
    "    return [0, 1]\n",
    "  else:\n",
    "    fib = [0, 1]\n",
    "    while len(fib) < n:\n",
    "      fib.append(fib[-1] + fib[-2])\n",
    "    return fib\n",
    "\n",
    "print(fibonacci(10))\n",
    "\n",
    "#needs to ask for explanation from gautam"
   ]
  },
  {
   "cell_type": "markdown",
   "metadata": {},
   "source": [
    "10) display prime numbers from 3 to 30\n"
   ]
  },
  {
   "cell_type": "code",
   "execution_count": 21,
   "metadata": {},
   "outputs": [
    {
     "name": "stdout",
     "output_type": "stream",
     "text": [
      "3\n",
      "5\n",
      "7\n",
      "11\n",
      "13\n",
      "17\n",
      "19\n",
      "23\n",
      "29\n"
     ]
    }
   ],
   "source": [
    "def is_prime(n):\n",
    "  if n < 2:\n",
    "    return False\n",
    "  for i in range(2, int(n**0.5) + 1):\n",
    "    if n % i == 0:\n",
    "      return False\n",
    "  return True\n",
    "\n",
    "for n in range(3, 31):\n",
    "  if is_prime(n):\n",
    "    print(n)"
   ]
  },
  {
   "cell_type": "markdown",
   "metadata": {},
   "source": [
    "11) accept a number and display whether it is prime or not\n"
   ]
  },
  {
   "cell_type": "code",
   "execution_count": 22,
   "metadata": {},
   "outputs": [
    {
     "name": "stdout",
     "output_type": "stream",
     "text": [
      "entered number is 56\n",
      "56 is not a prime number\n"
     ]
    }
   ],
   "source": [
    "num=int(input(\"enter a number\"))\n",
    "print('entered number is',num)\n",
    "if num==1 :\n",
    "    print(num,\"is not a prime number\")\n",
    "elif(num>1):\n",
    "    for i in range(2,i+1):\n",
    "        if(num%i==0):\n",
    "            print(num,\"is not a prime number\")\n",
    "            break\n",
    "        else:\n",
    "            print(\"num is prime number\")\n",
    "        num+=1"
   ]
  }
 ],
 "metadata": {
  "kernelspec": {
   "display_name": "Python 3",
   "language": "python",
   "name": "python3"
  },
  "language_info": {
   "codemirror_mode": {
    "name": "ipython",
    "version": 3
   },
   "file_extension": ".py",
   "mimetype": "text/x-python",
   "name": "python",
   "nbconvert_exporter": "python",
   "pygments_lexer": "ipython3",
   "version": "3.10.7"
  }
 },
 "nbformat": 4,
 "nbformat_minor": 2
}
