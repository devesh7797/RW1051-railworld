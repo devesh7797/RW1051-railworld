{
 "cells": [
  {
   "cell_type": "markdown",
   "metadata": {},
   "source": [
    "1) create 3 functions \"show1()\",\"show2()\" and \"show3()\"\n",
    "now define a function \"caller\" in such a way that it can accept any function as an argument and invoke the same."
   ]
  },
  {
   "cell_type": "code",
   "execution_count": 1,
   "metadata": {},
   "outputs": [
    {
     "name": "stdout",
     "output_type": "stream",
     "text": [
      "This is function show1\n",
      "This is function show2\n",
      "This is function show3\n"
     ]
    }
   ],
   "source": [
    "\n",
    "def show1():\n",
    "    print(\"This is function show1\")\n",
    "\n",
    "def show2():\n",
    "    print(\"This is function show2\")\n",
    "\n",
    "def show3():\n",
    "    print(\"This is function show3\")\n",
    "\n",
    "def caller(func):\n",
    "    func()\n",
    "\n",
    "# Example usage:\n",
    "caller(show1)\n",
    "caller(show2)\n",
    "caller(show3)"
   ]
  },
  {
   "cell_type": "markdown",
   "metadata": {},
   "source": []
  },
  {
   "cell_type": "markdown",
   "metadata": {},
   "source": [
    "2) define nested function and show how will you invoke it."
   ]
  },
  {
   "cell_type": "code",
   "execution_count": 2,
   "metadata": {},
   "outputs": [
    {
     "name": "stdout",
     "output_type": "stream",
     "text": [
      "Outer function\n",
      "Inner function\n"
     ]
    }
   ],
   "source": [
    "def outer_function():\n",
    "    print(\"Outer function\")\n",
    "\n",
    "    def inner_function():\n",
    "        print(\"Inner function\")\n",
    "\n",
    "    inner_function()  # Invoking the inner function inside the outer function\n",
    "\n",
    "# Invoking the outer function\n",
    "outer_function()"
   ]
  }
 ],
 "metadata": {
  "kernelspec": {
   "display_name": "Python 3",
   "language": "python",
   "name": "python3"
  },
  "language_info": {
   "codemirror_mode": {
    "name": "ipython",
    "version": 3
   },
   "file_extension": ".py",
   "mimetype": "text/x-python",
   "name": "python",
   "nbconvert_exporter": "python",
   "pygments_lexer": "ipython3",
   "version": "3.10.7"
  }
 },
 "nbformat": 4,
 "nbformat_minor": 2
}
